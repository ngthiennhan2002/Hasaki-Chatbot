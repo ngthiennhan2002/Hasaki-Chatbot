{
 "cells": [
  {
   "cell_type": "code",
   "execution_count": 1,
   "metadata": {},
   "outputs": [],
   "source": [
    "import pandas as pd"
   ]
  },
  {
   "cell_type": "code",
   "execution_count": 2,
   "metadata": {},
   "outputs": [],
   "source": [
    "def create_analysis_df(df, cols):\n",
    "    analysis_results = []\n",
    "    \n",
    "    for col in cols:\n",
    "        count = df[col].count()\n",
    "        empty_count = df[col].isnull().sum()\n",
    "        distinct_count = df[col].nunique()\n",
    "        total = len(df[col])\n",
    "        \n",
    "        # Add data to list\n",
    "        analysis_results.append({\n",
    "            \"Column\": col,\n",
    "            \"Valid (%)\": round((count - empty_count) / total * 100, 2),\n",
    "            \"Empty (%)\": round(empty_count / total * 100, 2),\n",
    "            \"Distinct\": f\"{distinct_count}/{total}\"\n",
    "        })\n",
    "        \n",
    "    df_analysis = pd.DataFrame(analysis_results)\n",
    "        \n",
    "    return df_analysis"
   ]
  },
  {
   "cell_type": "markdown",
   "metadata": {},
   "source": [
    "Preprocessing products.csv"
   ]
  },
  {
   "cell_type": "code",
   "execution_count": 3,
   "metadata": {},
   "outputs": [
    {
     "name": "stdout",
     "output_type": "stream",
     "text": [
      "Duplicates removed!\n",
      "Some duplicated products:\n"
     ]
    },
    {
     "data": {
      "text/html": [
       "<div>\n",
       "<style scoped>\n",
       "    .dataframe tbody tr th:only-of-type {\n",
       "        vertical-align: middle;\n",
       "    }\n",
       "\n",
       "    .dataframe tbody tr th {\n",
       "        vertical-align: top;\n",
       "    }\n",
       "\n",
       "    .dataframe thead th {\n",
       "        text-align: right;\n",
       "    }\n",
       "</style>\n",
       "<table border=\"1\" class=\"dataframe\">\n",
       "  <thead>\n",
       "    <tr style=\"text-align: right;\">\n",
       "      <th></th>\n",
       "      <th>Product ID</th>\n",
       "      <th>VN Name</th>\n",
       "      <th>EN Name</th>\n",
       "      <th>Brand</th>\n",
       "      <th>Category</th>\n",
       "      <th>Actual Price</th>\n",
       "      <th>Discount Price</th>\n",
       "      <th>Discount Rate</th>\n",
       "      <th>Variant</th>\n",
       "      <th>Star</th>\n",
       "      <th>Rating</th>\n",
       "      <th>Sold</th>\n",
       "      <th>Link</th>\n",
       "      <th>Image</th>\n",
       "    </tr>\n",
       "  </thead>\n",
       "  <tbody>\n",
       "    <tr>\n",
       "      <th>5319</th>\n",
       "      <td>110972</td>\n",
       "      <td>[Mua 1 Tặng 1] Eucerin Tinh Chất Sáng Da + Tặn...</td>\n",
       "      <td>Pro ACNE Solution Triple Effect Serum 40ml + C...</td>\n",
       "      <td>Eucerin</td>\n",
       "      <td>Chăm Sóc Da Mặt / Bộ Chăm Sóc Da Mặt</td>\n",
       "      <td>649000</td>\n",
       "      <td>584000</td>\n",
       "      <td>10</td>\n",
       "      <td>2 món</td>\n",
       "      <td>0.0</td>\n",
       "      <td>0</td>\n",
       "      <td>NaN</td>\n",
       "      <td>https://hasaki.vn/san-pham/mua-1-tang-1-euceri...</td>\n",
       "      <td>https://media.hcdn.vn/catalog/product/p/r/prom...</td>\n",
       "    </tr>\n",
       "    <tr>\n",
       "      <th>5320</th>\n",
       "      <td>110972</td>\n",
       "      <td>[Mua 1 Tặng 1] Eucerin Tinh Chất Sáng Da + Tặn...</td>\n",
       "      <td>Pro ACNE Solution Triple Effect Serum 40ml + C...</td>\n",
       "      <td>Eucerin</td>\n",
       "      <td>Chăm Sóc Da Mặt / Bộ Chăm Sóc Da Mặt</td>\n",
       "      <td>649000</td>\n",
       "      <td>584000</td>\n",
       "      <td>10</td>\n",
       "      <td>2 món</td>\n",
       "      <td>0.0</td>\n",
       "      <td>0</td>\n",
       "      <td>NaN</td>\n",
       "      <td>https://hasaki.vn/san-pham/mua-1-tang-1-euceri...</td>\n",
       "      <td>https://media.hcdn.vn/catalog/product/p/r/prom...</td>\n",
       "    </tr>\n",
       "    <tr>\n",
       "      <th>5519</th>\n",
       "      <td>106971</td>\n",
       "      <td>Kem Chống Nắng Nivea Hỗ Trợ Mờ Đốm Nâu, Ngừa T...</td>\n",
       "      <td>Luminous630 SpotClear Sun Protect SPF50 PA+++ ...</td>\n",
       "      <td>Nivea</td>\n",
       "      <td>Chăm Sóc Da Mặt / Chống Nắng Da Mặt</td>\n",
       "      <td>400000</td>\n",
       "      <td>392000</td>\n",
       "      <td>2</td>\n",
       "      <td>40ml</td>\n",
       "      <td>0.0</td>\n",
       "      <td>0</td>\n",
       "      <td>NaN</td>\n",
       "      <td>https://hasaki.vn/san-pham/kem-chong-nang-nive...</td>\n",
       "      <td>https://media.hcdn.vn/catalog/product/f/a/face...</td>\n",
       "    </tr>\n",
       "    <tr>\n",
       "      <th>5521</th>\n",
       "      <td>106971</td>\n",
       "      <td>Kem Chống Nắng Nivea Hỗ Trợ Mờ Đốm Nâu, Ngừa T...</td>\n",
       "      <td>Luminous630 SpotClear Sun Protect SPF50 PA+++ ...</td>\n",
       "      <td>Nivea</td>\n",
       "      <td>Chăm Sóc Da Mặt / Chống Nắng Da Mặt</td>\n",
       "      <td>400000</td>\n",
       "      <td>392000</td>\n",
       "      <td>2</td>\n",
       "      <td>40ml</td>\n",
       "      <td>0.0</td>\n",
       "      <td>0</td>\n",
       "      <td>NaN</td>\n",
       "      <td>https://hasaki.vn/san-pham/kem-chong-nang-nive...</td>\n",
       "      <td>https://media.hcdn.vn/catalog/product/f/a/face...</td>\n",
       "    </tr>\n",
       "    <tr>\n",
       "      <th>5557</th>\n",
       "      <td>78574</td>\n",
       "      <td>Chì Kẻ Mày Australis Siêu Mảnh Sắc Nét Màu Nâu</td>\n",
       "      <td>Micro Brow Pencil - Brown</td>\n",
       "      <td>australis</td>\n",
       "      <td>Trang Điểm / Trang Điểm Mắt / Kẻ Mày</td>\n",
       "      <td>230000</td>\n",
       "      <td>184000</td>\n",
       "      <td>20</td>\n",
       "      <td>NaN</td>\n",
       "      <td>4.0</td>\n",
       "      <td>0</td>\n",
       "      <td>NaN</td>\n",
       "      <td>https://hasaki.vn/san-pham/chi-van-ke-may-sieu...</td>\n",
       "      <td>https://media.hcdn.vn/catalog/product/f/a/face...</td>\n",
       "    </tr>\n",
       "  </tbody>\n",
       "</table>\n",
       "</div>"
      ],
      "text/plain": [
       "      Product ID                                            VN Name  \\\n",
       "5319      110972  [Mua 1 Tặng 1] Eucerin Tinh Chất Sáng Da + Tặn...   \n",
       "5320      110972  [Mua 1 Tặng 1] Eucerin Tinh Chất Sáng Da + Tặn...   \n",
       "5519      106971  Kem Chống Nắng Nivea Hỗ Trợ Mờ Đốm Nâu, Ngừa T...   \n",
       "5521      106971  Kem Chống Nắng Nivea Hỗ Trợ Mờ Đốm Nâu, Ngừa T...   \n",
       "5557       78574     Chì Kẻ Mày Australis Siêu Mảnh Sắc Nét Màu Nâu   \n",
       "\n",
       "                                                EN Name      Brand  \\\n",
       "5319  Pro ACNE Solution Triple Effect Serum 40ml + C...    Eucerin   \n",
       "5320  Pro ACNE Solution Triple Effect Serum 40ml + C...    Eucerin   \n",
       "5519  Luminous630 SpotClear Sun Protect SPF50 PA+++ ...      Nivea   \n",
       "5521  Luminous630 SpotClear Sun Protect SPF50 PA+++ ...      Nivea   \n",
       "5557                          Micro Brow Pencil - Brown  australis   \n",
       "\n",
       "                                  Category  Actual Price  Discount Price  \\\n",
       "5319  Chăm Sóc Da Mặt / Bộ Chăm Sóc Da Mặt        649000          584000   \n",
       "5320  Chăm Sóc Da Mặt / Bộ Chăm Sóc Da Mặt        649000          584000   \n",
       "5519   Chăm Sóc Da Mặt / Chống Nắng Da Mặt        400000          392000   \n",
       "5521   Chăm Sóc Da Mặt / Chống Nắng Da Mặt        400000          392000   \n",
       "5557  Trang Điểm / Trang Điểm Mắt / Kẻ Mày        230000          184000   \n",
       "\n",
       "      Discount Rate Variant  Star  Rating  Sold  \\\n",
       "5319             10   2 món   0.0       0   NaN   \n",
       "5320             10   2 món   0.0       0   NaN   \n",
       "5519              2    40ml   0.0       0   NaN   \n",
       "5521              2    40ml   0.0       0   NaN   \n",
       "5557             20     NaN   4.0       0   NaN   \n",
       "\n",
       "                                                   Link  \\\n",
       "5319  https://hasaki.vn/san-pham/mua-1-tang-1-euceri...   \n",
       "5320  https://hasaki.vn/san-pham/mua-1-tang-1-euceri...   \n",
       "5519  https://hasaki.vn/san-pham/kem-chong-nang-nive...   \n",
       "5521  https://hasaki.vn/san-pham/kem-chong-nang-nive...   \n",
       "5557  https://hasaki.vn/san-pham/chi-van-ke-may-sieu...   \n",
       "\n",
       "                                                  Image  \n",
       "5319  https://media.hcdn.vn/catalog/product/p/r/prom...  \n",
       "5320  https://media.hcdn.vn/catalog/product/p/r/prom...  \n",
       "5519  https://media.hcdn.vn/catalog/product/f/a/face...  \n",
       "5521  https://media.hcdn.vn/catalog/product/f/a/face...  \n",
       "5557  https://media.hcdn.vn/catalog/product/f/a/face...  "
      ]
     },
     "execution_count": 3,
     "metadata": {},
     "output_type": "execute_result"
    }
   ],
   "source": [
    "df_product = pd.read_csv(\"../Data/products.csv\")\n",
    "\n",
    "df_product.dropna(how='all', inplace=True)\n",
    "\n",
    "duplicate_products = df_product[df_product.duplicated(keep=False)]\n",
    "df_product.drop_duplicates(inplace=True)\n",
    "df_product = df_product.drop_duplicates(subset=\"Product ID\", keep=False)\n",
    "\n",
    "print(\"Duplicates removed!\")\n",
    "print(\"Some duplicated products:\")\n",
    "duplicate_products.head(5)"
   ]
  },
  {
   "cell_type": "markdown",
   "metadata": {},
   "source": [
    "Examine types of columns"
   ]
  },
  {
   "cell_type": "code",
   "execution_count": 4,
   "metadata": {},
   "outputs": [
    {
     "name": "stdout",
     "output_type": "stream",
     "text": [
      "Type of 'Product ID': int64\n",
      "Type of 'VN Name': string\n",
      "Type of 'EN Name': string\n",
      "Type of 'Brand': string\n",
      "Type of 'Category': string\n",
      "Type of 'Actual Price': int64\n",
      "Type of 'Discount Price': int64\n",
      "Type of 'Discount Rate': int64\n",
      "Type of 'Variant': string\n",
      "Type of 'Star': float64\n",
      "Type of 'Rating': int64\n",
      "Type of 'Sold': float64\n",
      "Type of 'Link': string\n",
      "Type of 'Image': string\n"
     ]
    }
   ],
   "source": [
    "product_cols = df_product.columns.tolist()\n",
    "\n",
    "for col in product_cols:\n",
    "    if df_product[col].dtype == \"object\":\n",
    "        df_product[col] = df_product[col].astype(\"string\")  # Convert to string type\n",
    "    print(f\"Type of '{col}':\", df_product[col].dtype)"
   ]
  },
  {
   "cell_type": "code",
   "execution_count": 5,
   "metadata": {},
   "outputs": [
    {
     "name": "stdout",
     "output_type": "stream",
     "text": [
      "Analysis of products.csv:\n",
      "            Column  Valid (%)  Empty (%)   Distinct\n",
      "0       Product ID     100.00       0.00  6540/6540\n",
      "1          VN Name     100.00       0.00  6539/6540\n",
      "2          EN Name      87.37       6.31  4227/6540\n",
      "3            Brand      99.97       0.02   438/6540\n",
      "4         Category      92.35       3.82   131/6540\n",
      "5     Actual Price     100.00       0.00   875/6540\n",
      "6   Discount Price     100.00       0.00   817/6540\n",
      "7    Discount Rate     100.00       0.00    82/6540\n",
      "8          Variant      95.41       2.29  1081/6540\n",
      "9             Star     100.00       0.00     6/6540\n",
      "10          Rating     100.00       0.00    98/6540\n",
      "11            Sold      50.06      24.97   538/6540\n",
      "12            Link     100.00       0.00  6540/6540\n",
      "13           Image     100.00       0.00  6538/6540\n"
     ]
    }
   ],
   "source": [
    "df_analysis_product = create_analysis_df(df_product, product_cols)\n",
    "\n",
    "print(\"Analysis of products.csv:\")\n",
    "print(df_analysis_product)"
   ]
  },
  {
   "cell_type": "markdown",
   "metadata": {},
   "source": [
    "Assessment: \n",
    "- Fields containing empty values: EN Name, Brand, Category, Variant, Sold. These fields do not really need to be filled when the crawling could not get the data\n",
    "The field 'Sold': Null values can be replaced by '0'\n",
    "\n",
    "- Fully valid fields: Product ID, VN Name, Actual Price, Discount Price, Discount Rate, Star, Rating, Link, Image\n",
    "- Fully distinct fields: Product ID, VN Name, Link\n",
    "- Primary Key: Product ID"
   ]
  },
  {
   "cell_type": "code",
   "execution_count": 6,
   "metadata": {},
   "outputs": [
    {
     "name": "stdout",
     "output_type": "stream",
     "text": [
      "Analysis of products.csv:\n",
      "            Column  Valid (%)  Empty (%)   Distinct\n",
      "0       Product ID     100.00       0.00  6540/6540\n",
      "1          VN Name     100.00       0.00  6539/6540\n",
      "2          EN Name      87.37       6.31  4227/6540\n",
      "3            Brand      99.97       0.02   438/6540\n",
      "4         Category      92.35       3.82   131/6540\n",
      "5     Actual Price     100.00       0.00   875/6540\n",
      "6   Discount Price     100.00       0.00   817/6540\n",
      "7    Discount Rate     100.00       0.00    82/6540\n",
      "8          Variant      95.41       2.29  1081/6540\n",
      "9             Star     100.00       0.00     6/6540\n",
      "10          Rating     100.00       0.00    98/6540\n",
      "11            Sold     100.00       0.00   539/6540\n",
      "12            Link     100.00       0.00  6540/6540\n",
      "13           Image     100.00       0.00  6538/6540\n"
     ]
    }
   ],
   "source": [
    "# Fill null \"Sold\" values with '0'\n",
    "df_product[\"Sold\"].fillna(0, inplace=True)\n",
    "\n",
    "# Re-test the dropping function\n",
    "df_analysis_product = create_analysis_df(df_product, product_cols)\n",
    "print(\"Analysis of products.csv:\")\n",
    "print(df_analysis_product)"
   ]
  },
  {
   "cell_type": "markdown",
   "metadata": {},
   "source": [
    "Save the processed products.csv"
   ]
  },
  {
   "cell_type": "code",
   "execution_count": 7,
   "metadata": {},
   "outputs": [],
   "source": [
    "df_product.to_csv(\"../Data/processed_products.csv\", index=False)"
   ]
  },
  {
   "cell_type": "markdown",
   "metadata": {},
   "source": [
    "Preprocessing reviews.csv"
   ]
  },
  {
   "cell_type": "code",
   "execution_count": 10,
   "metadata": {},
   "outputs": [
    {
     "name": "stdout",
     "output_type": "stream",
     "text": [
      "Duplicates removed!\n",
      "Some duplicated products:\n"
     ]
    },
    {
     "data": {
      "text/html": [
       "<div>\n",
       "<style scoped>\n",
       "    .dataframe tbody tr th:only-of-type {\n",
       "        vertical-align: middle;\n",
       "    }\n",
       "\n",
       "    .dataframe tbody tr th {\n",
       "        vertical-align: top;\n",
       "    }\n",
       "\n",
       "    .dataframe thead th {\n",
       "        text-align: right;\n",
       "    }\n",
       "</style>\n",
       "<table border=\"1\" class=\"dataframe\">\n",
       "  <thead>\n",
       "    <tr style=\"text-align: right;\">\n",
       "      <th></th>\n",
       "      <th>Product ID</th>\n",
       "      <th>Username</th>\n",
       "      <th>Time</th>\n",
       "      <th>Stars</th>\n",
       "      <th>Review</th>\n",
       "    </tr>\n",
       "  </thead>\n",
       "  <tbody>\n",
       "    <tr>\n",
       "      <th>6735</th>\n",
       "      <td>1641</td>\n",
       "      <td>phan thanh trúc</td>\n",
       "      <td>2024-12-05 22:59:00</td>\n",
       "      <td>5.0</td>\n",
       "      <td>t</td>\n",
       "    </tr>\n",
       "    <tr>\n",
       "      <th>6736</th>\n",
       "      <td>1641</td>\n",
       "      <td>phan thanh trúc</td>\n",
       "      <td>2024-12-05 22:59:00</td>\n",
       "      <td>5.0</td>\n",
       "      <td>t</td>\n",
       "    </tr>\n",
       "    <tr>\n",
       "      <th>20693</th>\n",
       "      <td>1640</td>\n",
       "      <td>phan thanh trúc</td>\n",
       "      <td>2024-12-05 22:59:00</td>\n",
       "      <td>5.0</td>\n",
       "      <td>t</td>\n",
       "    </tr>\n",
       "    <tr>\n",
       "      <th>20694</th>\n",
       "      <td>1640</td>\n",
       "      <td>phan thanh trúc</td>\n",
       "      <td>2024-12-05 22:59:00</td>\n",
       "      <td>5.0</td>\n",
       "      <td>t</td>\n",
       "    </tr>\n",
       "    <tr>\n",
       "      <th>30892</th>\n",
       "      <td>96705</td>\n",
       "      <td>Nguyenngocthanh</td>\n",
       "      <td>2023-08-12 12:23:00</td>\n",
       "      <td>5.0</td>\n",
       "      <td>NaN</td>\n",
       "    </tr>\n",
       "  </tbody>\n",
       "</table>\n",
       "</div>"
      ],
      "text/plain": [
       "       Product ID         Username                 Time  Stars Review\n",
       "6735         1641  phan thanh trúc  2024-12-05 22:59:00    5.0      t\n",
       "6736         1641  phan thanh trúc  2024-12-05 22:59:00    5.0      t\n",
       "20693        1640  phan thanh trúc  2024-12-05 22:59:00    5.0      t\n",
       "20694        1640  phan thanh trúc  2024-12-05 22:59:00    5.0      t\n",
       "30892       96705  Nguyenngocthanh  2023-08-12 12:23:00    5.0    NaN"
      ]
     },
     "execution_count": 10,
     "metadata": {},
     "output_type": "execute_result"
    }
   ],
   "source": [
    "df_review = pd.read_csv(\"../Data/reviews.csv\")\n",
    "\n",
    "df_review.dropna(how='all', inplace=True)\n",
    "\n",
    "duplicate_reviews = df_review[df_review.duplicated(keep=False)]\n",
    "df_review.drop_duplicates(inplace=True)\n",
    "\n",
    "print(\"Duplicates removed!\")\n",
    "print(\"Some duplicated products:\")\n",
    "duplicate_reviews.head(5)"
   ]
  },
  {
   "cell_type": "code",
   "execution_count": 11,
   "metadata": {},
   "outputs": [
    {
     "name": "stdout",
     "output_type": "stream",
     "text": [
      "Type of 'Product ID': int64\n",
      "Type of 'Username': string\n",
      "Type of 'Time': string\n",
      "Type of 'Stars': float64\n",
      "Type of 'Review': string\n"
     ]
    }
   ],
   "source": [
    "review_cols = df_review.columns.tolist()\n",
    "\n",
    "for col in review_cols:\n",
    "    if df_review[col].dtype == \"object\":\n",
    "        df_review[col] = df_review[col].astype(\"string\")  # Convert to string type\n",
    "    print(f\"Type of '{col}':\", df_review[col].dtype)"
   ]
  },
  {
   "cell_type": "code",
   "execution_count": 12,
   "metadata": {},
   "outputs": [
    {
     "name": "stdout",
     "output_type": "stream",
     "text": [
      "Analysis of reviews.csv:\n",
      "       Column  Valid (%)  Empty (%)     Distinct\n",
      "0  Product ID     100.00       0.00   3814/49066\n",
      "1    Username      99.95       0.02   7866/49066\n",
      "2        Time     100.00       0.00  15000/49066\n",
      "3       Stars     100.00       0.00      2/49066\n",
      "4      Review      93.12       3.44  13540/49066\n"
     ]
    }
   ],
   "source": [
    "df_analysis_review = create_analysis_df(df_review, review_cols)\n",
    "print(\"Analysis of reviews.csv:\")\n",
    "print(df_analysis_review)"
   ]
  },
  {
   "cell_type": "markdown",
   "metadata": {},
   "source": [
    "Assessment:\n",
    "- Fully valid fields: Product ID, Time, Stars\n",
    "- Fields containing empty values: Username, Review. \n",
    "The field \"Review\" cannot be filled.\n",
    "The field \"Username\" cannot be filled, should not be empty to identify the combined primary key\n",
    "- Fully distinct values: None -> Primary Key: Combine [Product ID, Username, Time]\n",
    "- 'Stars' has only 2 distinct values which can be predicted as 4.0 and 5.0 stars"
   ]
  },
  {
   "cell_type": "markdown",
   "metadata": {},
   "source": [
    "Drop reviews not containing Username"
   ]
  },
  {
   "cell_type": "code",
   "execution_count": 13,
   "metadata": {},
   "outputs": [
    {
     "name": "stdout",
     "output_type": "stream",
     "text": [
      "Analysis of reviews.csv:\n",
      "       Column  Valid (%)  Empty (%)     Distinct\n",
      "0  Product ID     100.00       0.00   3814/49054\n",
      "1    Username     100.00       0.00   7866/49054\n",
      "2        Time     100.00       0.00  14993/49054\n",
      "3       Stars     100.00       0.00      2/49054\n",
      "4      Review      93.11       3.44  13533/49054\n"
     ]
    }
   ],
   "source": [
    "df_review = df_review.dropna(subset=[\"Username\"])\n",
    "\n",
    "# Re-test the dropping function\n",
    "df_analysis_review = create_analysis_df(df_review, review_cols)\n",
    "print(\"Analysis of reviews.csv:\")\n",
    "print(df_analysis_review)"
   ]
  },
  {
   "cell_type": "markdown",
   "metadata": {},
   "source": [
    "Save the processed reviews.csv"
   ]
  },
  {
   "cell_type": "code",
   "execution_count": 14,
   "metadata": {},
   "outputs": [],
   "source": [
    "df_review.to_csv(\"../Data/processed_reviews.csv\", index=False)"
   ]
  }
 ],
 "metadata": {
  "kernelspec": {
   "display_name": "Python 3",
   "language": "python",
   "name": "python3"
  },
  "language_info": {
   "codemirror_mode": {
    "name": "ipython",
    "version": 3
   },
   "file_extension": ".py",
   "mimetype": "text/x-python",
   "name": "python",
   "nbconvert_exporter": "python",
   "pygments_lexer": "ipython3",
   "version": "3.11.4"
  }
 },
 "nbformat": 4,
 "nbformat_minor": 2
}
